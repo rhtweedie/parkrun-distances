{
 "cells": [
  {
   "cell_type": "markdown",
   "metadata": {},
   "source": [
    "### Parkrun Distances\n",
    "\n",
    "This notebook calculates the road distacne between two specified parkruns using the Google Distance Martrix API."
   ]
  },
  {
   "cell_type": "code",
   "execution_count": 88,
   "metadata": {},
   "outputs": [
    {
     "data": {
      "text/html": [
       "<div>\n",
       "<style scoped>\n",
       "    .dataframe tbody tr th:only-of-type {\n",
       "        vertical-align: middle;\n",
       "    }\n",
       "\n",
       "    .dataframe tbody tr th {\n",
       "        vertical-align: top;\n",
       "    }\n",
       "\n",
       "    .dataframe thead th {\n",
       "        text-align: right;\n",
       "    }\n",
       "</style>\n",
       "<table border=\"1\" class=\"dataframe\">\n",
       "  <thead>\n",
       "    <tr style=\"text-align: right;\">\n",
       "      <th></th>\n",
       "      <th>name</th>\n",
       "      <th>location</th>\n",
       "      <th>lon</th>\n",
       "      <th>lat</th>\n",
       "    </tr>\n",
       "  </thead>\n",
       "  <tbody>\n",
       "    <tr>\n",
       "      <th>0</th>\n",
       "      <td>Aberdare</td>\n",
       "      <td>Aberdare Park</td>\n",
       "      <td>-3.460089</td>\n",
       "      <td>51.718796</td>\n",
       "    </tr>\n",
       "    <tr>\n",
       "      <th>1</th>\n",
       "      <td>Aberdeen</td>\n",
       "      <td>Aberdeen Beach Esplanade</td>\n",
       "      <td>-2.086256</td>\n",
       "      <td>57.173898</td>\n",
       "    </tr>\n",
       "    <tr>\n",
       "      <th>2</th>\n",
       "      <td>Aberystwyth juniors</td>\n",
       "      <td>Plas Crug Park</td>\n",
       "      <td>-4.078402</td>\n",
       "      <td>52.412885</td>\n",
       "    </tr>\n",
       "    <tr>\n",
       "      <th>3</th>\n",
       "      <td>Aberystwyth</td>\n",
       "      <td>Plascrug Park</td>\n",
       "      <td>-4.080401</td>\n",
       "      <td>52.414546</td>\n",
       "    </tr>\n",
       "    <tr>\n",
       "      <th>4</th>\n",
       "      <td>Abingdon</td>\n",
       "      <td>Rye Meadow, Abingdon</td>\n",
       "      <td>-1.277429</td>\n",
       "      <td>51.667957</td>\n",
       "    </tr>\n",
       "  </tbody>\n",
       "</table>\n",
       "</div>"
      ],
      "text/plain": [
       "                  name                  location       lon        lat\n",
       "0             Aberdare             Aberdare Park -3.460089  51.718796\n",
       "1             Aberdeen  Aberdeen Beach Esplanade -2.086256  57.173898\n",
       "2  Aberystwyth juniors            Plas Crug Park -4.078402  52.412885\n",
       "3          Aberystwyth             Plascrug Park -4.080401  52.414546\n",
       "4             Abingdon      Rye Meadow, Abingdon -1.277429  51.667957"
      ]
     },
     "execution_count": 88,
     "metadata": {},
     "output_type": "execute_result"
    }
   ],
   "source": [
    "# import packages and read data\n",
    "\n",
    "import pandas as pd\n",
    "import json\n",
    "import requests\n",
    "\n",
    "df = pd.read_csv('data/uk-parkruns.csv')\n",
    "df.columns = ['name', 'location', 'lon', 'lat']\n",
    "df.head()\n"
   ]
  },
  {
   "cell_type": "code",
   "execution_count": 89,
   "metadata": {},
   "outputs": [
    {
     "name": "stdout",
     "output_type": "stream",
     "text": [
      "Edinburgh parkrun: 55.978806, -3.291585\n",
      "Oriam parkrun: 55.909754, -3.31715\n"
     ]
    }
   ],
   "source": [
    "LOC_1 = \"Edinburgh\"\n",
    "LOC_2 = \"Oriam\"\n",
    "\n",
    "# get coordinates of parkruns specified\n",
    "try:\n",
    "    lat_1 = df[df.name == LOC_1].lat.item()\n",
    "    lon_1 = df[df.name == LOC_1].lon.item()\n",
    "    print(f\"{LOC_1} parkrun: {lat_1}, {lon_1}\")\n",
    "    lat_2 = df[df.name == LOC_2].lat.item()\n",
    "    lon_2 = df[df.name == LOC_2].lon.item()\n",
    "    print(f\"{LOC_2} parkrun: {lat_2}, {lon_2}\")\n",
    "\n",
    "except:\n",
    "    print(\"Parkrun not found\")\n"
   ]
  },
  {
   "cell_type": "code",
   "execution_count": 90,
   "metadata": {},
   "outputs": [],
   "source": [
    "def get_key(path, index):\n",
    "    \"\"\"Gets api key from a json file.\n",
    "\n",
    "    Args:\n",
    "        path (string): the file path to the json file containing the api keys\n",
    "        index (int): the index of the key to be returned\n",
    "\n",
    "    Returns:\n",
    "        string: the key at the index specified\n",
    "    \"\"\"\n",
    "    with open(path) as f:\n",
    "        return list(json.load(f).values())[index]\n",
    "\n",
    "KEY_PATH = \"credentials.json\"\n",
    "key = get_key(KEY_PATH, 0)\n"
   ]
  },
  {
   "cell_type": "code",
   "execution_count": 94,
   "metadata": {},
   "outputs": [
    {
     "name": "stdout",
     "output_type": "stream",
     "text": [
      "Road distance between Edinburgh and Oriam: 6.1 miles\n"
     ]
    }
   ],
   "source": [
    "# get road distance between specified locations\n",
    "try:\n",
    "    url = f\"https://maps.googleapis.com/maps/api/distancematrix/json?units=imperial&origins={lat_1},{lon_1}&destinations={lat_2}%2C{lon_2}&key={key}\"\n",
    "    r = requests.get(url)\n",
    "    data = r.json()\n",
    "    print(\n",
    "        f\"Road distance between {LOC_1} and {LOC_2}: {data['rows'][0]['elements'][0]['distance']['text'].replace(' mi', '')} miles\")\n",
    "except:\n",
    "    print(\"No route found\")\n"
   ]
  }
 ],
 "metadata": {
  "kernelspec": {
   "display_name": "Python 3.9.2 64-bit",
   "language": "python",
   "name": "python3"
  },
  "language_info": {
   "codemirror_mode": {
    "name": "ipython",
    "version": 3
   },
   "file_extension": ".py",
   "mimetype": "text/x-python",
   "name": "python",
   "nbconvert_exporter": "python",
   "pygments_lexer": "ipython3",
   "version": "3.9.2"
  },
  "orig_nbformat": 4,
  "vscode": {
   "interpreter": {
    "hash": "e7370f93d1d0cde622a1f8e1c04877d8463912d04d973331ad4851f04de6915a"
   }
  }
 },
 "nbformat": 4,
 "nbformat_minor": 2
}
